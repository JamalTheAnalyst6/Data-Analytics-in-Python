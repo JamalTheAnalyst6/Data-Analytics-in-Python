{
 "cells": [
  {
   "cell_type": "markdown",
   "id": "781b306a",
   "metadata": {},
   "source": [
    "# For Loops"
   ]
  },
  {
   "cell_type": "code",
   "execution_count": 1,
   "id": "b19e2068",
   "metadata": {},
   "outputs": [],
   "source": [
    "integers = [1,2,3,4,5]"
   ]
  },
  {
   "cell_type": "code",
   "execution_count": 2,
   "id": "8ae6ee59",
   "metadata": {},
   "outputs": [
    {
     "name": "stdout",
     "output_type": "stream",
     "text": [
      "1\n",
      "2\n",
      "3\n",
      "4\n",
      "5\n"
     ]
    }
   ],
   "source": [
    "for number in integers:\n",
    "    print(number)"
   ]
  },
  {
   "cell_type": "code",
   "execution_count": 4,
   "id": "45cc0c80",
   "metadata": {},
   "outputs": [
    {
     "name": "stdout",
     "output_type": "stream",
     "text": [
      "2\n",
      "4\n",
      "6\n",
      "8\n",
      "10\n"
     ]
    }
   ],
   "source": [
    "for jelly in integers:\n",
    "    print(jelly + jelly)"
   ]
  },
  {
   "cell_type": "code",
   "execution_count": 7,
   "id": "e807b7f5",
   "metadata": {},
   "outputs": [],
   "source": [
    "ice_cream_dict = {'name': 'Jamal Burns', 'weekly intake': 5, 'favorite ice creams': ['MCC', 'Chocolate']}"
   ]
  },
  {
   "cell_type": "code",
   "execution_count": 8,
   "id": "61a5e485",
   "metadata": {},
   "outputs": [
    {
     "name": "stdout",
     "output_type": "stream",
     "text": [
      "Jamal Burns\n",
      "5\n",
      "['MCC', 'Chocolate']\n"
     ]
    }
   ],
   "source": [
    "for cream in ice_cream_dict.values():\n",
    "    print(cream)"
   ]
  },
  {
   "cell_type": "code",
   "execution_count": 10,
   "id": "6c094821",
   "metadata": {},
   "outputs": [
    {
     "name": "stdout",
     "output_type": "stream",
     "text": [
      "name -> Jamal Burns\n",
      "weekly intake -> 5\n",
      "favorite ice creams -> ['MCC', 'Chocolate']\n"
     ]
    }
   ],
   "source": [
    "for key, value in ice_cream_dict.items():\n",
    "    print(key, '->', value)"
   ]
  },
  {
   "cell_type": "markdown",
   "id": "ae42e470",
   "metadata": {},
   "source": [
    "# Nested For Loops"
   ]
  },
  {
   "cell_type": "code",
   "execution_count": 11,
   "id": "7983d9d5",
   "metadata": {},
   "outputs": [],
   "source": [
    "flavors = ['Vanilla', 'Chocolate', 'Cookie Dough']\n",
    "toppings = ['Hot Fudge', 'Oreos', 'Marshmallows']"
   ]
  },
  {
   "cell_type": "code",
   "execution_count": 12,
   "id": "10fd539f",
   "metadata": {},
   "outputs": [
    {
     "name": "stdout",
     "output_type": "stream",
     "text": [
      "Vanilla topped with Hot Fudge\n",
      "Vanilla topped with Oreos\n",
      "Vanilla topped with Marshmallows\n",
      "Chocolate topped with Hot Fudge\n",
      "Chocolate topped with Oreos\n",
      "Chocolate topped with Marshmallows\n",
      "Cookie Dough topped with Hot Fudge\n",
      "Cookie Dough topped with Oreos\n",
      "Cookie Dough topped with Marshmallows\n"
     ]
    }
   ],
   "source": [
    "for one in flavors:\n",
    "    for two in toppings:\n",
    "        print(one, 'topped with', two)"
   ]
  },
  {
   "cell_type": "code",
   "execution_count": null,
   "id": "f874cc4a",
   "metadata": {},
   "outputs": [],
   "source": []
  }
 ],
 "metadata": {
  "kernelspec": {
   "display_name": "Python 3 (ipykernel)",
   "language": "python",
   "name": "python3"
  },
  "language_info": {
   "codemirror_mode": {
    "name": "ipython",
    "version": 3
   },
   "file_extension": ".py",
   "mimetype": "text/x-python",
   "name": "python",
   "nbconvert_exporter": "python",
   "pygments_lexer": "ipython3",
   "version": "3.11.4"
  }
 },
 "nbformat": 4,
 "nbformat_minor": 5
}
