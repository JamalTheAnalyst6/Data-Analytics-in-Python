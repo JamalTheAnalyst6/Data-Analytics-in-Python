{
 "cells": [
  {
   "cell_type": "markdown",
   "id": "60569839",
   "metadata": {},
   "source": [
    "# If-Elif-Else Statements"
   ]
  },
  {
   "cell_type": "code",
   "execution_count": 1,
   "id": "fb67a7de",
   "metadata": {},
   "outputs": [
    {
     "name": "stdout",
     "output_type": "stream",
     "text": [
      "It worked!\n"
     ]
    }
   ],
   "source": [
    "if 25 > 10: \n",
    "    print('It worked!')"
   ]
  },
  {
   "cell_type": "code",
   "execution_count": 3,
   "id": "1a6c95cd",
   "metadata": {},
   "outputs": [
    {
     "name": "stdout",
     "output_type": "stream",
     "text": [
      "It did not work...\n"
     ]
    }
   ],
   "source": [
    "if 25 < 10: \n",
    "    print('It worked!')\n",
    "else:\n",
    "    print('It did not work...')"
   ]
  },
  {
   "cell_type": "code",
   "execution_count": 5,
   "id": "a5c425b9",
   "metadata": {},
   "outputs": [
    {
     "name": "stdout",
     "output_type": "stream",
     "text": [
      "It worked!\n"
     ]
    }
   ],
   "source": [
    "if (25 < 10) or (1 < 3): \n",
    "    print('It worked!')\n",
    "elif 25 < 20:\n",
    "    print('elif worked!')\n",
    "elif 25 < 21:\n",
    "    print('elif2 worked!')\n",
    "elif 25 < 40:\n",
    "    print('elif3 worked!')\n",
    "elif 25 < 50:\n",
    "    print('elif4 worked!')\n",
    "else:\n",
    "    print('It did not work...')"
   ]
  },
  {
   "cell_type": "code",
   "execution_count": 6,
   "id": "5227a445",
   "metadata": {},
   "outputs": [
    {
     "name": "stdout",
     "output_type": "stream",
     "text": [
      "It did not work...\n"
     ]
    }
   ],
   "source": [
    "print('It worked') if 10>30 else print('It did not work...')"
   ]
  },
  {
   "cell_type": "code",
   "execution_count": 7,
   "id": "a3b128b3",
   "metadata": {},
   "outputs": [
    {
     "name": "stdout",
     "output_type": "stream",
     "text": [
      "It worked!\n",
      "This nested if statement worked!\n"
     ]
    }
   ],
   "source": [
    "if (25 < 10) or (1 < 3): \n",
    "    print('It worked!')\n",
    "    if 10 > 5:\n",
    "        print('This nested if statement worked!')\n",
    "elif 25 < 20:\n",
    "    print('elif worked!')\n",
    "elif 25 < 21:\n",
    "    print('elif2 worked!')\n",
    "elif 25 < 40:\n",
    "    print('elif3 worked!')\n",
    "elif 25 < 50:\n",
    "    print('elif4 worked!')\n",
    "else:\n",
    "    print('It did not work...')"
   ]
  },
  {
   "cell_type": "code",
   "execution_count": null,
   "id": "5c2e13c2",
   "metadata": {},
   "outputs": [],
   "source": []
  }
 ],
 "metadata": {
  "kernelspec": {
   "display_name": "Python 3 (ipykernel)",
   "language": "python",
   "name": "python3"
  },
  "language_info": {
   "codemirror_mode": {
    "name": "ipython",
    "version": 3
   },
   "file_extension": ".py",
   "mimetype": "text/x-python",
   "name": "python",
   "nbconvert_exporter": "python",
   "pygments_lexer": "ipython3",
   "version": "3.11.4"
  }
 },
 "nbformat": 4,
 "nbformat_minor": 5
}
