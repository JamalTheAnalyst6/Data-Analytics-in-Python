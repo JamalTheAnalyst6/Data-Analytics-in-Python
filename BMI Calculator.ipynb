{
 "cells": [
  {
   "cell_type": "markdown",
   "id": "16f5185e",
   "metadata": {},
   "source": [
    "# BMI CALCULATOR"
   ]
  },
  {
   "cell_type": "code",
   "execution_count": 1,
   "id": "aeb42c6c",
   "metadata": {},
   "outputs": [],
   "source": [
    "# https://mercer-health.com/services/weight-management-center/bmi-calculator#:~:text=Body%20Mass%20Index%2C%20or%20BMI,inches%20x%20height%20in%20inches"
   ]
  },
  {
   "cell_type": "code",
   "execution_count": 22,
   "id": "ac00d6f7",
   "metadata": {},
   "outputs": [
    {
     "name": "stdout",
     "output_type": "stream",
     "text": [
      "Enter your name: Jamal\n",
      "Enter your weight in pounds: 170\n",
      "Enter your height in inches: 69\n",
      "25.101869355177485\n",
      "Jamal ,You are overweight.\n"
     ]
    }
   ],
   "source": [
    "name = input('Enter your name: ')\n",
    "weight = int(input(\"Enter your weight in pounds: \"))\n",
    "height = int(input(\"Enter your height in inches: \"))\n",
    "BMI = (weight * 703) / (height * height)\n",
    "print(BMI)\n",
    "if BMI>0:\n",
    "    if(BMI<18.5):\n",
    "        print(name +\" ,You are under weight.\")\n",
    "    elif(BMI<=24.9):\n",
    "        print(name +\" ,You are normal weight.\")\n",
    "    elif(BMI<29.9):\n",
    "        print(name +\" ,You are overweight.\")\n",
    "    elif(BMI<34.9):\n",
    "        print(name +\" ,You are obese.\")\n",
    "    elif(BMI<39.9):\n",
    "        print(name +\" ,You are severely obese.\")\n",
    "    elif(BMI>40):\n",
    "        print(name +\" ,You are mobidly obese.\")\n",
    "    else:\n",
    "        print(\"Enter valid inputs\")"
   ]
  },
  {
   "cell_type": "code",
   "execution_count": null,
   "id": "d8580609",
   "metadata": {},
   "outputs": [],
   "source": []
  },
  {
   "cell_type": "code",
   "execution_count": null,
   "id": "9b93071d",
   "metadata": {},
   "outputs": [],
   "source": []
  },
  {
   "cell_type": "code",
   "execution_count": 2,
   "id": "90733221",
   "metadata": {},
   "outputs": [],
   "source": [
    "#BMI = (wieght in pounds x 703) / (height in inches x height in inches)"
   ]
  },
  {
   "cell_type": "code",
   "execution_count": null,
   "id": "7ae5bb71",
   "metadata": {},
   "outputs": [],
   "source": [
    "print(weight)"
   ]
  },
  {
   "cell_type": "code",
   "execution_count": null,
   "id": "bf47e2ae",
   "metadata": {},
   "outputs": [],
   "source": [
    "Under 18.5-->Underweight--->Minimal\n",
    "18.5 -24.9--> Normal Weight--->Minimal\n",
    "25 -29.9--> Overweight-->Increased\n",
    "30 - 34.9-->Obese---High\n",
    "35 - 39.9 ---> Severely Obese ---> Very High\n",
    "40 and over ---> Morbidly Obese --> Extremely High"
   ]
  },
  {
   "cell_type": "code",
   "execution_count": null,
   "id": "68f3aea6",
   "metadata": {},
   "outputs": [],
   "source": []
  }
 ],
 "metadata": {
  "kernelspec": {
   "display_name": "Python 3 (ipykernel)",
   "language": "python",
   "name": "python3"
  },
  "language_info": {
   "codemirror_mode": {
    "name": "ipython",
    "version": 3
   },
   "file_extension": ".py",
   "mimetype": "text/x-python",
   "name": "python",
   "nbconvert_exporter": "python",
   "pygments_lexer": "ipython3",
   "version": "3.11.4"
  }
 },
 "nbformat": 4,
 "nbformat_minor": 5
}
